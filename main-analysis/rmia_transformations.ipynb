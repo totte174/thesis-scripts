{
 "cells": [
  {
   "cell_type": "markdown",
   "id": "34defdea",
   "metadata": {},
   "source": [
    "# RMIA transformations evaluation"
   ]
  },
  {
   "cell_type": "markdown",
   "id": "7b8a4282",
   "metadata": {},
   "source": [
    "Put your leakpro results in the *data* folder using the following structure\n",
    "\n",
    "data/rmia_transformations/*dataset*/*target_model*/.../result.json\n",
    "\n",
    "Example:\n",
    "\n",
    "data/rmia_transformations/ELD/LSTM/LiRA-num_shadow_model=64-signal_name=RescaledSMAPELoss.../result.json\n"
   ]
  },
  {
   "cell_type": "code",
   "execution_count": 1,
   "id": "c0aa0222",
   "metadata": {},
   "outputs": [],
   "source": [
    "from utils import objects_to_ablations\n",
    "import glob, os, json, gc"
   ]
  },
  {
   "cell_type": "code",
   "execution_count": 2,
   "id": "d7e9580f",
   "metadata": {},
   "outputs": [],
   "source": [
    "data_folder = \"data/rmia_transformations\"\n",
    "output_folder = \"output/rmia_transformations\"\n",
    "\n",
    "# This is the variable that varies and we want to observe the effect of\n",
    "important_name = \"transformation_name\"\n",
    "\n",
    "# This is the parameters given in the structure of the data\n",
    "from_path = [\"dataset\", \"target_model\"]\n",
    "\n",
    "# The parameters given in config in result.json\n",
    "from_config = [\"online\", \"audit\", \"signal_name\", \"transformation_name\"]\n",
    "\n",
    "config = {\n",
    "    \"ds_indivs\": {\n",
    "        \"EEG\": 32,\n",
    "        \"ELD\": 32,\n",
    "    },\n",
    "    \"indiv_strategy\": \"indiv_mean\",\n",
    "}\n",
    "\n"
   ]
  },
  {
   "cell_type": "code",
   "execution_count": 3,
   "id": "c5455813",
   "metadata": {},
   "outputs": [
    {
     "name": "stdout",
     "output_type": "stream",
     "text": [
      "({'dataset': 'ELD', 'target_model': 'NHiTS', 'signal_name': 'MSELoss', 'online': True, 'attack': 'RMIA'}, 'arctan')\n",
      "({'dataset': 'ELD', 'target_model': 'NHiTS', 'signal_name': 'MSELoss', 'online': True, 'attack': 'RMIA'}, 'recip')\n",
      "({'dataset': 'ELD', 'target_model': 'NHiTS', 'signal_name': 'MSELoss', 'online': True, 'attack': 'RMIA'}, 'reciplog')\n",
      "({'dataset': 'ELD', 'target_model': 'NHiTS', 'signal_name': 'SeasonalityLoss', 'online': True, 'attack': 'RMIA'}, 'arctan')\n",
      "({'dataset': 'ELD', 'target_model': 'NHiTS', 'signal_name': 'SeasonalityLoss', 'online': True, 'attack': 'RMIA'}, 'recip')\n",
      "({'dataset': 'ELD', 'target_model': 'NHiTS', 'signal_name': 'SeasonalityLoss', 'online': True, 'attack': 'RMIA'}, 'reciplog')\n",
      "({'dataset': 'ELD', 'target_model': 'NHiTS', 'signal_name': 'SMAPELoss', 'online': True, 'attack': 'RMIA'}, 'arctan')\n",
      "({'dataset': 'ELD', 'target_model': 'NHiTS', 'signal_name': 'SMAPELoss', 'online': True, 'attack': 'RMIA'}, 'recip')\n",
      "({'dataset': 'ELD', 'target_model': 'NHiTS', 'signal_name': 'SMAPELoss', 'online': True, 'attack': 'RMIA'}, 'reciplog')\n",
      "({'dataset': 'ELD', 'target_model': 'NHiTS', 'signal_name': 'TrendLoss', 'online': True, 'attack': 'RMIA'}, 'arctan')\n",
      "({'dataset': 'ELD', 'target_model': 'NHiTS', 'signal_name': 'TrendLoss', 'online': True, 'attack': 'RMIA'}, 'recip')\n",
      "({'dataset': 'ELD', 'target_model': 'NHiTS', 'signal_name': 'TrendLoss', 'online': True, 'attack': 'RMIA'}, 'reciplog')\n"
     ]
    }
   ],
   "source": [
    "objects = []\n",
    "\n",
    "for path in glob.glob(data_folder + \"/**/result.json\", recursive=True):\n",
    "    # Add parameters from path\n",
    "    data_folder_split = os.path.join(data_folder).split(os.sep)\n",
    "    path_split = path.split(os.sep)[len(data_folder_split):]\n",
    "    parameters = {param: path_split[i] for i, param in enumerate(from_path)}\n",
    "\n",
    "    # Load json file\n",
    "    with open(path) as f:\n",
    "        data = json.load(f)\n",
    "\n",
    "    # Add parameters from config in result.json\n",
    "    parameters |= {k: v for k,v in data[\"config\"].items() if k in from_config}\n",
    "\n",
    "    # Assume attack name to be part of parameters\n",
    "    parameters |= {\"attack\": data[\"result_name\"]}\n",
    "\n",
    "    important_value = parameters[important_name]\n",
    "    parameters = {k: v for k,v in parameters.items() if k!=important_name}\n",
    "\n",
    "    objects.append((data, parameters, important_value))\n",
    "    print((parameters, important_value))\n"
   ]
  },
  {
   "cell_type": "code",
   "execution_count": 4,
   "id": "970cd0d6",
   "metadata": {},
   "outputs": [
    {
     "name": "stdout",
     "output_type": "stream",
     "text": [
      "Saved study to output/rmia_transformations/dataset=ELD-target_model=NHiTS-signal_name=MSELoss-online=True-attack=RMIA\n",
      "Saved study to output/rmia_transformations/dataset=ELD-target_model=NHiTS-signal_name=SeasonalityLoss-online=True-attack=RMIA\n",
      "Saved study to output/rmia_transformations/dataset=ELD-target_model=NHiTS-signal_name=SMAPELoss-online=True-attack=RMIA\n",
      "Saved study to output/rmia_transformations/dataset=ELD-target_model=NHiTS-signal_name=TrendLoss-online=True-attack=RMIA\n"
     ]
    },
    {
     "data": {
      "text/plain": [
       "<Figure size 640x480 with 0 Axes>"
      ]
     },
     "metadata": {},
     "output_type": "display_data"
    }
   ],
   "source": [
    "\n",
    "ablations = objects_to_ablations(objects, config)\n",
    "\n",
    "for study in ablations:\n",
    "    save_dir = \"-\".join(f\"{k}={v}\" for k, v in study.parameters.items())\n",
    "    save_dir = os.path.join(output_folder, save_dir)\n",
    "    os.makedirs(save_dir, exist_ok=True) \n",
    "    study.make_roc_plot(save_dir)\n",
    "    study.make_table(save_dir)\n",
    "    gc.collect() # Garbage collect\n",
    "    print(f\"Saved study to {save_dir}\")"
   ]
  }
 ],
 "metadata": {
  "kernelspec": {
   "display_name": "Python 3",
   "language": "python",
   "name": "python3"
  },
  "language_info": {
   "codemirror_mode": {
    "name": "ipython",
    "version": 3
   },
   "file_extension": ".py",
   "mimetype": "text/x-python",
   "name": "python",
   "nbconvert_exporter": "python",
   "pygments_lexer": "ipython3",
   "version": "3.10.12"
  }
 },
 "nbformat": 4,
 "nbformat_minor": 5
}
