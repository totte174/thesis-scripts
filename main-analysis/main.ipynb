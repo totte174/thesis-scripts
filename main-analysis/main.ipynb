{
 "cells": [
  {
   "cell_type": "markdown",
   "id": "90a16599",
   "metadata": {},
   "source": [
    "# Main analysis script"
   ]
  },
  {
   "cell_type": "markdown",
   "id": "2c29b258",
   "metadata": {},
   "source": [
    "Put your leakpro results in the *data* folder using the following structure\n",
    "\n",
    "data/main/*dataset*/*target_model*/.../result.json\n",
    "\n",
    "Example:\n",
    "\n",
    "data/main/ELD/LSTM/LiRA-num_shadow_model=64-signal_name=RescaledSMAPELoss.../result.json\n"
   ]
  },
  {
   "cell_type": "code",
   "execution_count": 1,
   "id": "4d8d298d",
   "metadata": {},
   "outputs": [
    {
     "name": "stderr",
     "output_type": "stream",
     "text": [
      "/home/zyzz/.local/lib/python3.10/site-packages/matplotlib/projections/__init__.py:63: UserWarning: Unable to import Axes3D. This may be due to multiple versions of Matplotlib being installed (e.g. as a system package and as a pip package). As a result, the 3D projection is not available.\n",
      "  warnings.warn(\"Unable to import Axes3D. This may be due to multiple versions of \"\n"
     ]
    }
   ],
   "source": [
    "from utils import objects_to_ablations\n",
    "import glob, os, json, gc"
   ]
  },
  {
   "cell_type": "code",
   "execution_count": null,
   "id": "0f2cd960",
   "metadata": {},
   "outputs": [],
   "source": [
    "data_folder = \"data/main\"\n",
    "output_folder = \"output/main\"\n",
    "\n",
    "# This is the variable that varies and we want to observe the effect of\n",
    "important_name = \"signal_name\"\n",
    "\n",
    "# This is the parameters given in the structure of the data\n",
    "from_path = [\"dataset\", \"target_model\"]\n",
    "\n",
    "# The parameters given in config in result.json\n",
    "from_config = [\"online\", \"audit\", \"signal_name\"]\n",
    "\n",
    "config = {\n",
    "    \"ds_indivs\": {\n",
    "        \"EEG\": 32,\n",
    "        \"ELD\": 32,\n",
    "    },\n",
    "    \"indiv_strategy\": \"indiv_mean\", # indiv_mean, indiv_median, indiv_outlier, indiv_mle\n",
    "    \"order\": [\"MSELoss\", \"MAELoss\", \"SMAPELoss\", \"RescaledSMAPELoss\", \"TrendLoss\", \"SeasonalityLoss\", \"TS2VecLoss\"],\n",
    "}\n"
   ]
  },
  {
   "cell_type": "code",
   "execution_count": 3,
   "id": "949c83f4",
   "metadata": {},
   "outputs": [
    {
     "name": "stdout",
     "output_type": "stream",
     "text": [
      "({'dataset': 'EEG', 'target_model': 'N-HiTS', 'online': True, 'attack': 'DTS-MIA'}, 'DTS-MIA')\n",
      "({'dataset': 'EEG', 'target_model': 'N-HiTS', 'online': False, 'attack': 'DTS-MIA'}, 'DTS-MIA')\n",
      "({'dataset': 'EEG', 'target_model': 'N-HiTS', 'audit': False, 'attack': 'Ensemble'}, 'MAELoss')\n",
      "({'dataset': 'EEG', 'target_model': 'N-HiTS', 'audit': False, 'attack': 'Ensemble'}, 'MSELoss')\n",
      "({'dataset': 'EEG', 'target_model': 'N-HiTS', 'audit': False, 'attack': 'Ensemble'}, 'RescaledSMAPELoss')\n",
      "({'dataset': 'EEG', 'target_model': 'N-HiTS', 'audit': False, 'attack': 'Ensemble'}, 'SeasonalityLoss')\n",
      "({'dataset': 'EEG', 'target_model': 'N-HiTS', 'audit': False, 'attack': 'Ensemble'}, 'SMAPELoss')\n",
      "({'dataset': 'EEG', 'target_model': 'N-HiTS', 'audit': False, 'attack': 'Ensemble'}, 'TrendLoss')\n",
      "({'dataset': 'EEG', 'target_model': 'N-HiTS', 'audit': False, 'attack': 'Ensemble'}, 'TS2VecLoss')\n",
      "({'dataset': 'EEG', 'target_model': 'N-HiTS', 'audit': True, 'attack': 'Ensemble'}, 'MAELoss')\n",
      "({'dataset': 'EEG', 'target_model': 'N-HiTS', 'audit': True, 'attack': 'Ensemble'}, 'MSELoss')\n",
      "({'dataset': 'EEG', 'target_model': 'N-HiTS', 'audit': True, 'attack': 'Ensemble'}, 'RescaledSMAPELoss')\n",
      "({'dataset': 'EEG', 'target_model': 'N-HiTS', 'audit': True, 'attack': 'Ensemble'}, 'SeasonalityLoss')\n",
      "({'dataset': 'EEG', 'target_model': 'N-HiTS', 'audit': True, 'attack': 'Ensemble'}, 'SMAPELoss')\n",
      "({'dataset': 'EEG', 'target_model': 'N-HiTS', 'audit': True, 'attack': 'Ensemble'}, 'TrendLoss')\n",
      "({'dataset': 'EEG', 'target_model': 'N-HiTS', 'audit': True, 'attack': 'Ensemble'}, 'TS2VecLoss')\n",
      "({'dataset': 'EEG', 'target_model': 'N-HiTS', 'online': False, 'attack': 'LiRA'}, 'MAELoss')\n",
      "({'dataset': 'EEG', 'target_model': 'N-HiTS', 'online': False, 'attack': 'LiRA'}, 'MSELoss')\n",
      "({'dataset': 'EEG', 'target_model': 'N-HiTS', 'online': False, 'attack': 'LiRA'}, 'RescaledSMAPELoss')\n",
      "({'dataset': 'EEG', 'target_model': 'N-HiTS', 'online': False, 'attack': 'LiRA'}, 'SeasonalityLoss')\n",
      "({'dataset': 'EEG', 'target_model': 'N-HiTS', 'online': False, 'attack': 'LiRA'}, 'SMAPELoss')\n",
      "({'dataset': 'EEG', 'target_model': 'N-HiTS', 'online': False, 'attack': 'LiRA'}, 'TrendLoss')\n",
      "({'dataset': 'EEG', 'target_model': 'N-HiTS', 'online': False, 'attack': 'LiRA'}, 'TS2VecLoss')\n",
      "({'dataset': 'EEG', 'target_model': 'N-HiTS', 'online': True, 'attack': 'LiRA'}, 'MAELoss')\n",
      "({'dataset': 'EEG', 'target_model': 'N-HiTS', 'online': True, 'attack': 'LiRA'}, 'MSELoss')\n",
      "({'dataset': 'EEG', 'target_model': 'N-HiTS', 'online': True, 'attack': 'LiRA'}, 'RescaledSMAPELoss')\n",
      "({'dataset': 'EEG', 'target_model': 'N-HiTS', 'online': True, 'attack': 'LiRA'}, 'SeasonalityLoss')\n",
      "({'dataset': 'EEG', 'target_model': 'N-HiTS', 'online': True, 'attack': 'LiRA'}, 'SMAPELoss')\n",
      "({'dataset': 'EEG', 'target_model': 'N-HiTS', 'online': True, 'attack': 'LiRA'}, 'TrendLoss')\n",
      "({'dataset': 'EEG', 'target_model': 'N-HiTS', 'online': True, 'attack': 'LiRA'}, 'TS2VecLoss')\n",
      "({'dataset': 'EEG', 'target_model': 'N-HiTS', 'online': False, 'attack': 'MS-LiRA'}, 'MSELoss,MAELoss,RescaledSMAPELoss,TrendLoss,SeasonalityLoss,TS2VecLoss')\n",
      "({'dataset': 'EEG', 'target_model': 'N-HiTS', 'online': True, 'attack': 'MS-LiRA'}, 'MSELoss,MAELoss,RescaledSMAPELoss,TrendLoss,SeasonalityLoss,TS2VecLoss')\n",
      "({'dataset': 'EEG', 'target_model': 'N-HiTS', 'online': False, 'attack': 'RMIA'}, 'MAELoss')\n",
      "({'dataset': 'EEG', 'target_model': 'N-HiTS', 'online': False, 'attack': 'RMIA'}, 'MSELoss')\n",
      "({'dataset': 'EEG', 'target_model': 'N-HiTS', 'online': False, 'attack': 'RMIA'}, 'SeasonalityLoss')\n",
      "({'dataset': 'EEG', 'target_model': 'N-HiTS', 'online': False, 'attack': 'RMIA'}, 'SMAPELoss')\n",
      "({'dataset': 'EEG', 'target_model': 'N-HiTS', 'online': False, 'attack': 'RMIA'}, 'TrendLoss')\n",
      "({'dataset': 'EEG', 'target_model': 'N-HiTS', 'online': False, 'attack': 'RMIA'}, 'TS2VecLoss')\n",
      "({'dataset': 'EEG', 'target_model': 'N-HiTS', 'online': True, 'attack': 'RMIA'}, 'MAELoss')\n",
      "({'dataset': 'EEG', 'target_model': 'N-HiTS', 'online': True, 'attack': 'RMIA'}, 'MSELoss')\n",
      "({'dataset': 'EEG', 'target_model': 'N-HiTS', 'online': True, 'attack': 'RMIA'}, 'SeasonalityLoss')\n",
      "({'dataset': 'EEG', 'target_model': 'N-HiTS', 'online': True, 'attack': 'RMIA'}, 'SMAPELoss')\n",
      "({'dataset': 'EEG', 'target_model': 'N-HiTS', 'online': True, 'attack': 'RMIA'}, 'TrendLoss')\n",
      "({'dataset': 'EEG', 'target_model': 'N-HiTS', 'online': True, 'attack': 'RMIA'}, 'TS2VecLoss')\n"
     ]
    }
   ],
   "source": [
    "objects = []\n",
    "\n",
    "for path in glob.glob(data_folder + \"/**/*.json\", recursive=True):\n",
    "    # Add parameters from path\n",
    "    data_folder_split = os.path.join(data_folder).split(os.sep)\n",
    "    path_split = path.split(os.sep)[len(data_folder_split):]\n",
    "    parameters = {param: path_split[i] for i, param in enumerate(from_path)}\n",
    "\n",
    "    # Load json file\n",
    "    with open(path) as f:\n",
    "        data = json.load(f)\n",
    "\n",
    "    # Add parameters from config in result.json\n",
    "    parameters |= {k: v for k,v in data[\"config\"].items() if k in from_config}\n",
    "    if \"signal_names\" in data[\"config\"].keys() and \"signal_name\" in from_config:\n",
    "        parameters[\"signal_name\"] = \",\".join(data[\"config\"][\"signal_names\"])\n",
    "\n",
    "    # Assume attack name to be part of parameters\n",
    "    parameters |= {\"attack\": data[\"result_name\"]}\n",
    "    \n",
    "    if important_name not in parameters.keys():\n",
    "        parameters[important_name] = parameters[\"attack\"]\n",
    "\n",
    "    important_value = parameters[important_name]\n",
    "    parameters = {k: v for k,v in parameters.items() if k!=important_name}\n",
    "\n",
    "    objects.append((data, parameters, important_value))\n",
    "    print((parameters, important_value))\n"
   ]
  },
  {
   "cell_type": "code",
   "execution_count": 4,
   "id": "c2065c80",
   "metadata": {},
   "outputs": [
    {
     "name": "stdout",
     "output_type": "stream",
     "text": [
      "Saved study to output/main/dataset=EEG-target_model=N-HiTS-online=True-attack=DTS-MIA\n",
      "Saved study to output/main/dataset=EEG-target_model=N-HiTS-online=False-attack=DTS-MIA\n",
      "Saved study to output/main/dataset=EEG-target_model=N-HiTS-audit=False-attack=Ensemble\n",
      "Saved study to output/main/dataset=EEG-target_model=N-HiTS-audit=True-attack=Ensemble\n",
      "Saved study to output/main/dataset=EEG-target_model=N-HiTS-online=False-attack=LiRA\n",
      "Saved study to output/main/dataset=EEG-target_model=N-HiTS-online=True-attack=LiRA\n",
      "Saved study to output/main/dataset=EEG-target_model=N-HiTS-online=False-attack=MS-LiRA\n",
      "Saved study to output/main/dataset=EEG-target_model=N-HiTS-online=True-attack=MS-LiRA\n",
      "Saved study to output/main/dataset=EEG-target_model=N-HiTS-online=False-attack=RMIA\n",
      "Saved study to output/main/dataset=EEG-target_model=N-HiTS-online=True-attack=RMIA\n"
     ]
    },
    {
     "data": {
      "text/plain": [
       "<Figure size 432x288 with 0 Axes>"
      ]
     },
     "metadata": {},
     "output_type": "display_data"
    }
   ],
   "source": [
    "ablations = objects_to_ablations(objects, config)\n",
    "for study in ablations:\n",
    "    save_dir = \"-\".join(f\"{k}={v}\" for k, v in study.parameters.items())\n",
    "    save_dir = os.path.join(output_folder, save_dir)\n",
    "    os.makedirs(save_dir, exist_ok=True) \n",
    "    study.make_roc_plot(save_dir)\n",
    "    study.make_table(save_dir)\n",
    "    study.make_indiv_roc_plot(save_dir)\n",
    "    gc.collect() # Garbage collect\n",
    "    print(f\"Saved study to {save_dir}\")"
   ]
  }
 ],
 "metadata": {
  "kernelspec": {
   "display_name": "Python 3",
   "language": "python",
   "name": "python3"
  },
  "language_info": {
   "codemirror_mode": {
    "name": "ipython",
    "version": 3
   },
   "file_extension": ".py",
   "mimetype": "text/x-python",
   "name": "python",
   "nbconvert_exporter": "python",
   "pygments_lexer": "ipython3",
   "version": "3.10.12"
  }
 },
 "nbformat": 4,
 "nbformat_minor": 5
}
