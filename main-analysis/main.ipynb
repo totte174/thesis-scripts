{
 "cells": [
  {
   "cell_type": "markdown",
   "id": "90a16599",
   "metadata": {},
   "source": [
    "# Main analysis script"
   ]
  },
  {
   "cell_type": "markdown",
   "id": "2c29b258",
   "metadata": {},
   "source": [
    "Put your leakpro results in the *data* folder using the following structure\n",
    "\n",
    "data/main/*dataset*/*target_model*/.../result.json\n",
    "\n",
    "Example:\n",
    "\n",
    "data/main/ELD/LSTM/LiRA-num_shadow_model=64-signal_name=RescaledSMAPELoss.../result.json\n"
   ]
  },
  {
   "cell_type": "code",
   "execution_count": 1,
   "id": "4d8d298d",
   "metadata": {},
   "outputs": [],
   "source": [
    "from utils import AblationStudy\n",
    "import glob, os, json, gc"
   ]
  },
  {
   "cell_type": "code",
   "execution_count": 2,
   "id": "0f2cd960",
   "metadata": {},
   "outputs": [],
   "source": [
    "data_folder = \"data/main\"\n",
    "output_folder = \"output/main\"\n",
    "\n",
    "# This is the variable that varies and we want to observe the effect of\n",
    "important_name = \"signal_name\"\n",
    "\n",
    "# This is the parameters given in the structure of the data\n",
    "from_path = [\"dataset\", \"target_model\"]\n",
    "\n",
    "# The parameters given in config in result.json\n",
    "from_config = [\"online\", \"audit\", \"signal_name\"]\n",
    "\n",
    "config = {\n",
    "    \"ds_indivs\": {\n",
    "        \"EEG\": 32,\n",
    "        \"ELD\": 32,\n",
    "    },\n",
    "    \"indiv_strategy\": \"indiv_mean\",\n",
    "    \"order\": [\"MSELoss\", \"MAELoss\", \"SMAPELoss\", \"RescaledSMAPELoss\", \"TrendLoss\", \"SeasonalityLoss\", \"TS2VecLoss\"],\n",
    "}\n",
    "\n"
   ]
  },
  {
   "cell_type": "code",
   "execution_count": 3,
   "id": "949c83f4",
   "metadata": {},
   "outputs": [],
   "source": [
    "objects = []\n",
    "\n",
    "for path in glob.glob(data_folder + \"/**/result.json\", recursive=True):\n",
    "    # Add parameters from path\n",
    "    data_folder_split = data_folder.split(os.sep)\n",
    "    path_split = path.split(os.sep)[len(data_folder_split):]\n",
    "    parameters = {param: path_split[i] for i, param in enumerate(from_path)}\n",
    "\n",
    "    # Load json file\n",
    "    with open(path) as f:\n",
    "        data = json.load(f)\n",
    "\n",
    "    # Add parameters from config in result.json\n",
    "    parameters |= {k: v for k,v in data[\"config\"].items() if k in from_config}\n",
    "\n",
    "    # Assume attack name to be part of parameters\n",
    "    parameters |= {\"attack\": data[\"result_name\"]}\n",
    "\n",
    "    important_value = parameters[important_name]\n",
    "    parameters = {k: v for k,v in parameters.items() if k!=important_name}\n",
    "\n",
    "    objects.append((data, parameters, important_value))\n",
    "    print((parameters, important_value))\n"
   ]
  },
  {
   "cell_type": "code",
   "execution_count": 4,
   "id": "c2065c80",
   "metadata": {},
   "outputs": [],
   "source": [
    "\n",
    "ablations = {}\n",
    "def key(parameters):\n",
    "    return tuple((k,v) for k,v in parameters.items())\n",
    "\n",
    "for data, parameters, important in objects:\n",
    "    k = key(parameters)\n",
    "    if k in ablations.keys():\n",
    "        ablations[k][\"data\"].append(data)\n",
    "        ablations[k][\"important\"].append(important)\n",
    "    else:\n",
    "        ablations[k] = {\n",
    "            \"data\" : [data],\n",
    "            \"parameters\": parameters,\n",
    "            \"important\": [important]\n",
    "        }\n",
    "\n",
    "for d in ablations.values():\n",
    "    study = AblationStudy(\n",
    "        d[\"parameters\"], d[\"data\"], d[\"important\"], config\n",
    "    )\n",
    "    save_dir = \"-\".join(f\"{k}={v}\" for k, v in d[\"parameters\"].items())\n",
    "    save_dir = os.path.join(output_folder, save_dir)\n",
    "    os.makedirs(save_dir, exist_ok=True) \n",
    "    study.make_roc_plot(save_dir)\n",
    "    study.make_table(save_dir)\n",
    "    gc.collect() # Garbage collect\n",
    "    print(f\"Saved study to {save_dir}\")"
   ]
  }
 ],
 "metadata": {
  "kernelspec": {
   "display_name": "Python 3",
   "language": "python",
   "name": "python3"
  },
  "language_info": {
   "codemirror_mode": {
    "name": "ipython",
    "version": 3
   },
   "file_extension": ".py",
   "mimetype": "text/x-python",
   "name": "python",
   "nbconvert_exporter": "python",
   "pygments_lexer": "ipython3",
   "version": "3.12.7"
  }
 },
 "nbformat": 4,
 "nbformat_minor": 5
}
