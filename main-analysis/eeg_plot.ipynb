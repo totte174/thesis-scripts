{
 "cells": [
  {
   "cell_type": "markdown",
   "id": "90a16599",
   "metadata": {},
   "source": [
    "# Main analysis script"
   ]
  },
  {
   "cell_type": "markdown",
   "id": "2c29b258",
   "metadata": {},
   "source": [
    "Put your leakpro results in the *data* folder using the following structure\n",
    "\n",
    "data/main/*dataset*/*target_model*/.../result.json\n",
    "\n",
    "Example:\n",
    "\n",
    "data/main/ELD/LSTM/LiRA-num_shadow_model=64-signal_name=RescaledSMAPELoss.../result.json\n"
   ]
  },
  {
   "cell_type": "code",
   "execution_count": 1,
   "id": "4d8d298d",
   "metadata": {},
   "outputs": [
    {
     "name": "stderr",
     "output_type": "stream",
     "text": [
      "/usr/lib/python3/dist-packages/scipy/__init__.py:146: UserWarning: A NumPy version >=1.17.3 and <1.25.0 is required for this version of SciPy (detected version 1.26.4\n",
      "  warnings.warn(f\"A NumPy version >={np_minversion} and <{np_maxversion}\"\n"
     ]
    }
   ],
   "source": [
    "from utils import objects_to_ablations\n",
    "import glob, os, json, gc"
   ]
  },
  {
   "cell_type": "code",
   "execution_count": 2,
   "id": "0f2cd960",
   "metadata": {},
   "outputs": [],
   "source": [
    "data_folder = \"data/eeg_plot\"\n",
    "output_folder = \"output/eeg_plot\"\n",
    "\n",
    "# This is the variable that varies and we want to observe the effect of\n",
    "important_name = \"attack\"\n",
    "\n",
    "# This is the parameters given in the structure of the data\n",
    "from_path = [\"dataset\", \"target_model\"]\n",
    "\n",
    "# The parameters given in config in result.json\n",
    "from_config = []\n",
    "\n",
    "config = {\n",
    "    \"ds_indivs\": {\n",
    "        \"EEG\": 32,\n",
    "        \"ELD\": 32,\n",
    "    },\n",
    "    \"indiv_strategy\": \"indiv_mean\",\n",
    "    #\"order\": [\"MSELoss\", \"MAELoss\", \"SMAPELoss\", \"RescaledSMAPELoss\", \"TrendLoss\", \"SeasonalityLoss\", \"TS2VecLoss\"],\n",
    "}\n",
    "\n"
   ]
  },
  {
   "cell_type": "code",
   "execution_count": 3,
   "id": "949c83f4",
   "metadata": {},
   "outputs": [
    {
     "name": "stdout",
     "output_type": "stream",
     "text": [
      "True\n",
      "({'dataset': 'EEG', 'target_model': 'NHiTS'}, 'DTS-MIA')\n",
      "True\n",
      "({'dataset': 'EEG', 'target_model': 'NHiTS'}, 'LiRA')\n",
      "True\n",
      "({'dataset': 'EEG', 'target_model': 'NHiTS'}, 'RMIA')\n"
     ]
    }
   ],
   "source": [
    "objects = []\n",
    "\n",
    "for path in glob.glob(data_folder + \"/**/*.json\", recursive=True):\n",
    "    # Add parameters from path\n",
    "    data_folder_split = os.path.join(data_folder).split(os.sep)\n",
    "    path_split = path.split(os.sep)[len(data_folder_split):]\n",
    "    parameters = {param: path_split[i] for i, param in enumerate(from_path)}\n",
    "\n",
    "    # Load json file\n",
    "    with open(path) as f:\n",
    "        data = json.load(f)\n",
    "\n",
    "    # Add parameters from config in result.json\n",
    "    parameters |= {k: v for k,v in data[\"config\"].items() if k in from_config}\n",
    "    if \"signal_names\" in data[\"config\"].keys() and \"signal_name\" in from_config:\n",
    "        parameters[\"signal_name\"] = \",\".join(data[\"config\"][\"signal_names\"])\n",
    "    print(data[\"config\"][\"online\"])\n",
    "\n",
    "    # Assume attack name to be part of parameters\n",
    "    parameters |= {\"attack\": data[\"result_name\"]}\n",
    "    \n",
    "    if important_name not in parameters.keys():\n",
    "        parameters[important_name] = parameters[\"attack\"]\n",
    "\n",
    "    important_value = parameters[important_name]\n",
    "    parameters = {k: v for k,v in parameters.items() if k!=important_name}\n",
    "\n",
    "    objects.append((data, parameters, important_value))\n",
    "    print((parameters, important_value))\n"
   ]
  },
  {
   "cell_type": "code",
   "execution_count": 4,
   "id": "c2065c80",
   "metadata": {},
   "outputs": [
    {
     "name": "stdout",
     "output_type": "stream",
     "text": [
      "Saved study to output/eeg_plot/dataset=EEG-target_model=NHiTS\n"
     ]
    },
    {
     "data": {
      "text/plain": [
       "<Figure size 640x480 with 0 Axes>"
      ]
     },
     "metadata": {},
     "output_type": "display_data"
    }
   ],
   "source": [
    "ablations = objects_to_ablations(objects, config)\n",
    "for study in ablations:\n",
    "    save_dir = \"-\".join(f\"{k}={v}\" for k, v in study.parameters.items())\n",
    "    save_dir = os.path.join(output_folder, save_dir)\n",
    "    os.makedirs(save_dir, exist_ok=True) \n",
    "    study.make_roc_plot(save_dir)\n",
    "    study.make_table(save_dir)\n",
    "    study.make_indiv_roc_plot(save_dir)\n",
    "    gc.collect() # Garbage collect\n",
    "    print(f\"Saved study to {save_dir}\")"
   ]
  }
 ],
 "metadata": {
  "kernelspec": {
   "display_name": "Python 3",
   "language": "python",
   "name": "python3"
  },
  "language_info": {
   "codemirror_mode": {
    "name": "ipython",
    "version": 3
   },
   "file_extension": ".py",
   "mimetype": "text/x-python",
   "name": "python",
   "nbconvert_exporter": "python",
   "pygments_lexer": "ipython3",
   "version": "3.10.12"
  }
 },
 "nbformat": 4,
 "nbformat_minor": 5
}
